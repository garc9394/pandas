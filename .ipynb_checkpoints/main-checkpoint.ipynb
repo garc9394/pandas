{
 "cells": [
  {
   "cell_type": "code",
   "execution_count": 9,
   "metadata": {
    "collapsed": true
   },
   "outputs": [],
   "source": [
    "# dependencies\n",
    "\n",
    "import pandas as pd\n",
    "import numpy as np\n",
    "import json\n",
    "import os"
   ]
  },
  {
   "cell_type": "code",
   "execution_count": 10,
   "metadata": {},
   "outputs": [
    {
     "name": "stdout",
     "output_type": "stream",
     "text": [
      "[0] purchase_data.json\n",
      "[1] purchase_data2.json\n",
      "Which file do you want to open? 0\n"
     ]
    }
   ],
   "source": [
    "# search the dir for JSON files, and ask the user as to which of the files to open for analysis\n",
    "\n",
    "file_list = []\n",
    "x = 0\n",
    "\n",
    "for file in os.listdir(\"HeroesOfPymoli\"):\n",
    "    if file.endswith(\".json\"):\n",
    "        file_list.insert(x, os.path.join(file))\n",
    "        x += x\n",
    "\n",
    "file_list.sort()\n",
    "\n",
    "for file_name in file_list:\n",
    "    print(\"[\" + str(file_list.index(file_name)) + \"] \" + file_name)\n",
    "\n",
    "selection = int(input(\"Which file do you want to open? \"))\n",
    "jsonpath = ('HeroesOfPymoli/' + file_list[selection])"
   ]
  },
  {
   "cell_type": "code",
   "execution_count": 11,
   "metadata": {},
   "outputs": [
    {
     "data": {
      "text/html": [
       "<div>\n",
       "<style>\n",
       "    .dataframe thead tr:only-child th {\n",
       "        text-align: right;\n",
       "    }\n",
       "\n",
       "    .dataframe thead th {\n",
       "        text-align: left;\n",
       "    }\n",
       "\n",
       "    .dataframe tbody tr th {\n",
       "        vertical-align: top;\n",
       "    }\n",
       "</style>\n",
       "<table border=\"1\" class=\"dataframe\">\n",
       "  <thead>\n",
       "    <tr style=\"text-align: right;\">\n",
       "      <th></th>\n",
       "      <th>Age</th>\n",
       "      <th>Gender</th>\n",
       "      <th>Item ID</th>\n",
       "      <th>Item Name</th>\n",
       "      <th>Price</th>\n",
       "      <th>SN</th>\n",
       "    </tr>\n",
       "  </thead>\n",
       "  <tbody>\n",
       "    <tr>\n",
       "      <th>0</th>\n",
       "      <td>38</td>\n",
       "      <td>Male</td>\n",
       "      <td>165</td>\n",
       "      <td>Bone Crushing Silver Skewer</td>\n",
       "      <td>3.37</td>\n",
       "      <td>Aelalis34</td>\n",
       "    </tr>\n",
       "    <tr>\n",
       "      <th>1</th>\n",
       "      <td>21</td>\n",
       "      <td>Male</td>\n",
       "      <td>119</td>\n",
       "      <td>Stormbringer, Dark Blade of Ending Misery</td>\n",
       "      <td>2.32</td>\n",
       "      <td>Eolo46</td>\n",
       "    </tr>\n",
       "    <tr>\n",
       "      <th>2</th>\n",
       "      <td>34</td>\n",
       "      <td>Male</td>\n",
       "      <td>174</td>\n",
       "      <td>Primitive Blade</td>\n",
       "      <td>2.46</td>\n",
       "      <td>Assastnya25</td>\n",
       "    </tr>\n",
       "    <tr>\n",
       "      <th>3</th>\n",
       "      <td>21</td>\n",
       "      <td>Male</td>\n",
       "      <td>92</td>\n",
       "      <td>Final Critic</td>\n",
       "      <td>1.36</td>\n",
       "      <td>Pheusrical25</td>\n",
       "    </tr>\n",
       "    <tr>\n",
       "      <th>4</th>\n",
       "      <td>23</td>\n",
       "      <td>Male</td>\n",
       "      <td>63</td>\n",
       "      <td>Stormfury Mace</td>\n",
       "      <td>1.27</td>\n",
       "      <td>Aela59</td>\n",
       "    </tr>\n",
       "  </tbody>\n",
       "</table>\n",
       "</div>"
      ],
      "text/plain": [
       "   Age Gender  Item ID                                  Item Name  Price  \\\n",
       "0   38   Male      165                Bone Crushing Silver Skewer   3.37   \n",
       "1   21   Male      119  Stormbringer, Dark Blade of Ending Misery   2.32   \n",
       "2   34   Male      174                            Primitive Blade   2.46   \n",
       "3   21   Male       92                               Final Critic   1.36   \n",
       "4   23   Male       63                             Stormfury Mace   1.27   \n",
       "\n",
       "             SN  \n",
       "0     Aelalis34  \n",
       "1        Eolo46  \n",
       "2   Assastnya25  \n",
       "3  Pheusrical25  \n",
       "4        Aela59  "
      ]
     },
     "execution_count": 11,
     "metadata": {},
     "output_type": "execute_result"
    }
   ],
   "source": [
    "# read JSON file\n",
    "\n",
    "json_df = pd.read_json(jsonpath)\n",
    "json_df.head()"
   ]
  },
  {
   "cell_type": "code",
   "execution_count": 12,
   "metadata": {},
   "outputs": [
    {
     "name": "stdout",
     "output_type": "stream",
     "text": [
      "Total Number of Players:  573\n"
     ]
    }
   ],
   "source": [
    "# Player Count - number of players based on unique'SN'\n",
    "\n",
    "player_count = len(json_df[\"SN\"].value_counts())\n",
    "print(\"Total Number of Players: \", player_count)"
   ]
  },
  {
   "cell_type": "code",
   "execution_count": 13,
   "metadata": {},
   "outputs": [
    {
     "name": "stdout",
     "output_type": "stream",
     "text": [
      "Number of Unique Items:  183\n",
      "Average Purchase Price:  3.99\n",
      "Total Number of Purchases:  573\n",
      "Total Revenue:  2286.33\n"
     ]
    }
   ],
   "source": [
    "# Purchasing Analysis (Total)\n",
    "\n",
    "unique_item_count = len(json_df[\"Item ID\"].value_counts())\n",
    "\n",
    "total_number_purchases = len(json_df[\"SN\"].value_counts())\n",
    "total_revenue = json_df[\"Price\"].sum()\n",
    "average_purchase_price = total_revenue / total_number_purchases\n",
    "\n",
    "print(\"Number of Unique Items: \", unique_item_count)\n",
    "print(\"Average Purchase Price: \", np.round(average_purchase_price, decimals=2))\n",
    "print(\"Total Number of Purchases: \", total_number_purchases)\n",
    "print(\"Total Revenue: \", np.round(total_revenue, decimals=2))"
   ]
  },
  {
   "cell_type": "code",
   "execution_count": 29,
   "metadata": {},
   "outputs": [
    {
     "name": "stdout",
     "output_type": "stream",
     "text": [
      "                       Number of Players    Percent\n",
      "Male                                 465  81.151832\n",
      "Female                               100  17.452007\n",
      "Other / Non-Disclosed                  8   1.396161\n"
     ]
    }
   ],
   "source": [
    "# Gender Demographics\n",
    "\n",
    "gender_df = json_df.drop_duplicates(['SN'], keep='first')\n",
    "gender_counts_df = pd.DataFrame(gender_df[\"Gender\"].value_counts())\n",
    "gender_counts_df = gender_counts_df.rename(columns={\"Gender\": \"Number of Players\"})\n",
    "gender_counts_df['Percent'] = gender_counts_df[\"Number of Players\"] / player_count * 100\n",
    "print(gender_counts_df)\n",
    "# Need to format percentage"
   ]
  },
  {
   "cell_type": "code",
   "execution_count": 20,
   "metadata": {},
   "outputs": [
    {
     "name": "stdout",
     "output_type": "stream",
     "text": [
      "                       Purchase Count    Percent  Total Purchase Value  \\\n",
      "Male                              465  81.151832               1867.68   \n",
      "Female                            100  17.452007                382.91   \n",
      "Other / Non-Disclosed               8   1.396161                 35.74   \n",
      "\n",
      "                       Average Purchase Price  Normalized Total Purchase Value  \n",
      "Male                                 4.016516                         2.950521  \n",
      "Female                               3.829100                         2.815515  \n",
      "Other / Non-Disclosed                4.467500                         3.249091  \n"
     ]
    }
   ],
   "source": [
    "# Purchasing Analysis (Gender)\n",
    "\n",
    "gender_analysis_df = gender_counts_df.rename(columns={\"Number of Players\": \"Purchase Count\"})\n",
    "gender_analysis_df['Total Purchase Value'] = (json_df.groupby('Gender'))['Price'].sum()\n",
    "gender_analysis_df['Average Purchase Price'] = gender_analysis_df['Total Purchase Value'] / gender_analysis_df['Purchase Count']\n",
    "gender_analysis_df['Normalized Total Purchase Value'] = gender_analysis_df['Total Purchase Value'] / (json_df.groupby('Gender'))['SN'].count()\n",
    "print(gender_analysis_df)"
   ]
  },
  {
   "cell_type": "code",
   "execution_count": 23,
   "metadata": {},
   "outputs": [
    {
     "name": "stdout",
     "output_type": "stream",
     "text": [
      "           Purchase Count  Total Purchase Value  Average Purchase Price  \\\n",
      "Age Group                                                                 \n",
      "<10                    28                 83.46                2.980714   \n",
      "10-14                  35                 96.95                2.770000   \n",
      "15-19                 133                386.42                2.905414   \n",
      "20-24                 336                978.77                2.913006   \n",
      "25-29                 125                370.33                2.962640   \n",
      "30-34                  64                197.25                3.082031   \n",
      "35-39                  42                119.40                2.842857   \n",
      "40-44                  16                 51.03                3.189375   \n",
      "45-49                   1                  2.72                2.720000   \n",
      "50-54                   0                   NaN                     NaN   \n",
      "55-59                   0                   NaN                     NaN   \n",
      "60-64                   0                   NaN                     NaN   \n",
      ">64                     0                   NaN                     NaN   \n",
      "\n",
      "           Normalized Total Purchase Value  \n",
      "Age Group                                   \n",
      "<10                               2.980714  \n",
      "10-14                             2.770000  \n",
      "15-19                             2.905414  \n",
      "20-24                             2.913006  \n",
      "25-29                             2.962640  \n",
      "30-34                             3.082031  \n",
      "35-39                             2.842857  \n",
      "40-44                             3.189375  \n",
      "45-49                             2.720000  \n",
      "50-54                                  NaN  \n",
      "55-59                                  NaN  \n",
      "60-64                                  NaN  \n",
      ">64                                    NaN  \n"
     ]
    }
   ],
   "source": [
    "# Age Demographics\n",
    "\n",
    "bins = [0, 9, 14, 19, 24, 29, 34, 39, 44, 49, 54, 59, 64, 119]\n",
    "group_names = ['<10', '10-14', '15-19', '20-24', '25-29', '30-34', '35-39', '40-44', '45-49', '50-54', '55-59', '60-64', '>64']\n",
    "age_df = json_df\n",
    "age_df['Age Group'] = pd.cut(age_df[\"Age\"], bins, labels=group_names)\n",
    "grouped_age_groups = age_df.groupby('Age Group')\n",
    "purchase_per_group_df = pd.DataFrame(grouped_age_groups['SN'].count()) # unique SN?\n",
    "renamed_purchase_per_group_df = purchase_per_group_df.rename(columns = {\"Age Group\": \"Age Group\", \"SN\": \"Purchase Count\"})\n",
    "renamed_purchase_per_group_df['Total Purchase Value'] = (age_df.groupby('Age Group'))['Price'].sum()\n",
    "renamed_purchase_per_group_df['Average Purchase Price'] = renamed_purchase_per_group_df['Total Purchase Value'] / renamed_purchase_per_group_df['Purchase Count']\n",
    "renamed_purchase_per_group_df['Normalized Total Purchase Value'] = renamed_purchase_per_group_df['Total Purchase Value'] / (age_df.groupby('Age Group'))['SN'].count()\n",
    "print(renamed_purchase_per_group_df)"
   ]
  },
  {
   "cell_type": "code",
   "execution_count": 17,
   "metadata": {},
   "outputs": [
    {
     "data": {
      "text/html": [
       "<div>\n",
       "<style>\n",
       "    .dataframe thead tr:only-child th {\n",
       "        text-align: right;\n",
       "    }\n",
       "\n",
       "    .dataframe thead th {\n",
       "        text-align: left;\n",
       "    }\n",
       "\n",
       "    .dataframe tbody tr th {\n",
       "        vertical-align: top;\n",
       "    }\n",
       "</style>\n",
       "<table border=\"1\" class=\"dataframe\">\n",
       "  <thead>\n",
       "    <tr style=\"text-align: right;\">\n",
       "      <th></th>\n",
       "      <th>Total Purchase Value</th>\n",
       "      <th>Purchase Count</th>\n",
       "      <th>Average Purchase Price</th>\n",
       "    </tr>\n",
       "    <tr>\n",
       "      <th>SN</th>\n",
       "      <th></th>\n",
       "      <th></th>\n",
       "      <th></th>\n",
       "    </tr>\n",
       "  </thead>\n",
       "  <tbody>\n",
       "    <tr>\n",
       "      <th>Undirrala66</th>\n",
       "      <td>17.06</td>\n",
       "      <td>5</td>\n",
       "      <td>3.412000</td>\n",
       "    </tr>\n",
       "    <tr>\n",
       "      <th>Saedue76</th>\n",
       "      <td>13.56</td>\n",
       "      <td>4</td>\n",
       "      <td>3.390000</td>\n",
       "    </tr>\n",
       "    <tr>\n",
       "      <th>Mindimnya67</th>\n",
       "      <td>12.74</td>\n",
       "      <td>4</td>\n",
       "      <td>3.185000</td>\n",
       "    </tr>\n",
       "    <tr>\n",
       "      <th>Haellysu29</th>\n",
       "      <td>12.73</td>\n",
       "      <td>3</td>\n",
       "      <td>4.243333</td>\n",
       "    </tr>\n",
       "    <tr>\n",
       "      <th>Eoda93</th>\n",
       "      <td>11.58</td>\n",
       "      <td>3</td>\n",
       "      <td>3.860000</td>\n",
       "    </tr>\n",
       "  </tbody>\n",
       "</table>\n",
       "</div>"
      ],
      "text/plain": [
       "             Total Purchase Value  Purchase Count  Average Purchase Price\n",
       "SN                                                                       \n",
       "Undirrala66                 17.06               5                3.412000\n",
       "Saedue76                    13.56               4                3.390000\n",
       "Mindimnya67                 12.74               4                3.185000\n",
       "Haellysu29                  12.73               3                4.243333\n",
       "Eoda93                      11.58               3                3.860000"
      ]
     },
     "execution_count": 17,
     "metadata": {},
     "output_type": "execute_result"
    }
   ],
   "source": [
    "# Top Spenders\n",
    "\n",
    "top_spenders = pd.DataFrame(json_df.groupby('SN')['Price'].sum().sort_values(ascending=False).head())\n",
    "top_spenders = top_spenders.rename(columns={\"Price\": \"Total Purchase Value\"})\n",
    "top_spenders['Purchase Count'] = (json_df.groupby('SN'))['Item ID'].count()\n",
    "top_spenders['Average Purchase Price'] = top_spenders['Total Purchase Value'] / top_spenders['Purchase Count']\n",
    "top_spenders"
   ]
  },
  {
   "cell_type": "code",
   "execution_count": 18,
   "metadata": {},
   "outputs": [
    {
     "data": {
      "text/html": [
       "<div>\n",
       "<style>\n",
       "    .dataframe thead tr:only-child th {\n",
       "        text-align: right;\n",
       "    }\n",
       "\n",
       "    .dataframe thead th {\n",
       "        text-align: left;\n",
       "    }\n",
       "\n",
       "    .dataframe tbody tr th {\n",
       "        vertical-align: top;\n",
       "    }\n",
       "</style>\n",
       "<table border=\"1\" class=\"dataframe\">\n",
       "  <thead>\n",
       "    <tr style=\"text-align: right;\">\n",
       "      <th></th>\n",
       "      <th></th>\n",
       "      <th></th>\n",
       "      <th>Purchase Count</th>\n",
       "      <th>Total Purchase Value</th>\n",
       "    </tr>\n",
       "    <tr>\n",
       "      <th>Item ID</th>\n",
       "      <th>Item Name</th>\n",
       "      <th>Price</th>\n",
       "      <th></th>\n",
       "      <th></th>\n",
       "    </tr>\n",
       "  </thead>\n",
       "  <tbody>\n",
       "    <tr>\n",
       "      <th>84</th>\n",
       "      <th>Arcane Gem</th>\n",
       "      <th>2.23</th>\n",
       "      <td>11</td>\n",
       "      <td>24.53</td>\n",
       "    </tr>\n",
       "    <tr>\n",
       "      <th>39</th>\n",
       "      <th>Betrayal, Whisper of Grieving Widows</th>\n",
       "      <th>2.35</th>\n",
       "      <td>11</td>\n",
       "      <td>25.85</td>\n",
       "    </tr>\n",
       "    <tr>\n",
       "      <th>31</th>\n",
       "      <th>Trickster</th>\n",
       "      <th>2.07</th>\n",
       "      <td>9</td>\n",
       "      <td>18.63</td>\n",
       "    </tr>\n",
       "    <tr>\n",
       "      <th>34</th>\n",
       "      <th>Retribution Axe</th>\n",
       "      <th>4.14</th>\n",
       "      <td>9</td>\n",
       "      <td>37.26</td>\n",
       "    </tr>\n",
       "    <tr>\n",
       "      <th>175</th>\n",
       "      <th>Woeful Adamantite Claymore</th>\n",
       "      <th>1.24</th>\n",
       "      <td>9</td>\n",
       "      <td>11.16</td>\n",
       "    </tr>\n",
       "  </tbody>\n",
       "</table>\n",
       "</div>"
      ],
      "text/plain": [
       "                                                    Purchase Count  \\\n",
       "Item ID Item Name                            Price                   \n",
       "84      Arcane Gem                           2.23               11   \n",
       "39      Betrayal, Whisper of Grieving Widows 2.35               11   \n",
       "31      Trickster                            2.07                9   \n",
       "34      Retribution Axe                      4.14                9   \n",
       "175     Woeful Adamantite Claymore           1.24                9   \n",
       "\n",
       "                                                    Total Purchase Value  \n",
       "Item ID Item Name                            Price                        \n",
       "84      Arcane Gem                           2.23                  24.53  \n",
       "39      Betrayal, Whisper of Grieving Widows 2.35                  25.85  \n",
       "31      Trickster                            2.07                  18.63  \n",
       "34      Retribution Axe                      4.14                  37.26  \n",
       "175     Woeful Adamantite Claymore           1.24                  11.16  "
      ]
     },
     "execution_count": 18,
     "metadata": {},
     "output_type": "execute_result"
    }
   ],
   "source": [
    "# Top Popular Items\n",
    "\n",
    "top_items = pd.DataFrame(json_df.groupby(['Item ID', 'Item Name', 'Price'])['Item ID'].count().sort_values(ascending=False).head())\n",
    "top_items = top_items.rename(columns={\"Item ID\": \"Purchase Count\"})\n",
    "top_items['Total Purchase Value'] = json_df.groupby(['Item ID', 'Item Name', 'Price'])['Price'].sum()\n",
    "top_items"
   ]
  },
  {
   "cell_type": "code",
   "execution_count": 19,
   "metadata": {},
   "outputs": [
    {
     "data": {
      "text/html": [
       "<div>\n",
       "<style>\n",
       "    .dataframe thead tr:only-child th {\n",
       "        text-align: right;\n",
       "    }\n",
       "\n",
       "    .dataframe thead th {\n",
       "        text-align: left;\n",
       "    }\n",
       "\n",
       "    .dataframe tbody tr th {\n",
       "        vertical-align: top;\n",
       "    }\n",
       "</style>\n",
       "<table border=\"1\" class=\"dataframe\">\n",
       "  <thead>\n",
       "    <tr style=\"text-align: right;\">\n",
       "      <th></th>\n",
       "      <th></th>\n",
       "      <th></th>\n",
       "      <th>Price</th>\n",
       "      <th>Total Purchase Value</th>\n",
       "    </tr>\n",
       "    <tr>\n",
       "      <th>Item ID</th>\n",
       "      <th>Item Name</th>\n",
       "      <th>Price</th>\n",
       "      <th></th>\n",
       "      <th></th>\n",
       "    </tr>\n",
       "  </thead>\n",
       "  <tbody>\n",
       "    <tr>\n",
       "      <th>34</th>\n",
       "      <th>Retribution Axe</th>\n",
       "      <th>4.14</th>\n",
       "      <td>37.26</td>\n",
       "      <td>9</td>\n",
       "    </tr>\n",
       "    <tr>\n",
       "      <th>115</th>\n",
       "      <th>Spectral Diamond Doomblade</th>\n",
       "      <th>4.25</th>\n",
       "      <td>29.75</td>\n",
       "      <td>7</td>\n",
       "    </tr>\n",
       "    <tr>\n",
       "      <th>32</th>\n",
       "      <th>Orenmir</th>\n",
       "      <th>4.95</th>\n",
       "      <td>29.70</td>\n",
       "      <td>6</td>\n",
       "    </tr>\n",
       "    <tr>\n",
       "      <th>103</th>\n",
       "      <th>Singed Scalpel</th>\n",
       "      <th>4.87</th>\n",
       "      <td>29.22</td>\n",
       "      <td>6</td>\n",
       "    </tr>\n",
       "    <tr>\n",
       "      <th>107</th>\n",
       "      <th>Splitter, Foe Of Subtlety</th>\n",
       "      <th>3.61</th>\n",
       "      <td>28.88</td>\n",
       "      <td>8</td>\n",
       "    </tr>\n",
       "  </tbody>\n",
       "</table>\n",
       "</div>"
      ],
      "text/plain": [
       "                                          Price  Total Purchase Value\n",
       "Item ID Item Name                  Price                             \n",
       "34      Retribution Axe            4.14   37.26                     9\n",
       "115     Spectral Diamond Doomblade 4.25   29.75                     7\n",
       "32      Orenmir                    4.95   29.70                     6\n",
       "103     Singed Scalpel             4.87   29.22                     6\n",
       "107     Splitter, Foe Of Subtlety  3.61   28.88                     8"
      ]
     },
     "execution_count": 19,
     "metadata": {},
     "output_type": "execute_result"
    }
   ],
   "source": [
    "# Most Profitable Items\n",
    "\n",
    "top_profitable_items = pd.DataFrame(json_df.groupby(['Item ID', 'Item Name', 'Price'])['Price'].sum().sort_values(ascending=False).head())\n",
    "top_profitable_items = top_profitable_items.rename(columns={\"Item ID\": \"Total Purchase Value\"})\n",
    "top_profitable_items['Total Purchase Value'] = json_df.groupby(['Item ID', 'Item Name', 'Price'])['Item ID'].count()\n",
    "top_profitable_items"
   ]
  }
 ],
 "metadata": {
  "kernelspec": {
   "display_name": "Python 3",
   "language": "python",
   "name": "python3"
  },
  "language_info": {
   "codemirror_mode": {
    "name": "ipython",
    "version": 3
   },
   "file_extension": ".py",
   "mimetype": "text/x-python",
   "name": "python",
   "nbconvert_exporter": "python",
   "pygments_lexer": "ipython3",
   "version": "3.6.2"
  }
 },
 "nbformat": 4,
 "nbformat_minor": 2
}
